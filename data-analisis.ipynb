{
 "cells": [
  {
   "cell_type": "markdown",
   "id": "dc3d4fc9",
   "metadata": {},
   "source": [
    "# 📊 Análisis Univariado & Análisis Bivariado 🔍"
   ]
  },
  {
   "cell_type": "code",
   "execution_count": null,
   "id": "10e46386",
   "metadata": {},
   "outputs": [],
   "source": [
    "import pandas as pd\n",
    "import matplotlib.pyplot as plt\n",
    "import seaborn as sns\n",
    "import numpy as np"
   ]
  },
  {
   "cell_type": "markdown",
   "id": "df9d0b23",
   "metadata": {},
   "source": [
    "Análisis Exploratoria de los Datos del Banco W"
   ]
  },
  {
   "cell_type": "code",
   "execution_count": 2,
   "id": "7bf7c0f2",
   "metadata": {},
   "outputs": [
    {
     "data": {
      "application/vnd.microsoft.datawrangler.viewer.v0+json": {
       "columns": [
        {
         "name": "index",
         "rawType": "int64",
         "type": "integer"
        },
        {
         "name": "Num",
         "rawType": "float64",
         "type": "float"
        },
        {
         "name": "ID_modif",
         "rawType": "object",
         "type": "string"
        },
        {
         "name": "Cliente",
         "rawType": "object",
         "type": "string"
        },
        {
         "name": "Analista",
         "rawType": "object",
         "type": "string"
        },
        {
         "name": "Nombre analista",
         "rawType": "object",
         "type": "string"
        },
        {
         "name": "Tipo crédito",
         "rawType": "object",
         "type": "unknown"
        },
        {
         "name": "Fecha desem",
         "rawType": "object",
         "type": "string"
        },
        {
         "name": "Visita_analista_crédito",
         "rawType": "object",
         "type": "unknown"
        },
        {
         "name": "Visita_auditor",
         "rawType": "object",
         "type": "unknown"
        },
        {
         "name": "Actividad",
         "rawType": "object",
         "type": "string"
        },
        {
         "name": "Monto",
         "rawType": "float64",
         "type": "float"
        },
        {
         "name": "Cuota",
         "rawType": "object",
         "type": "string"
        },
        {
         "name": "Plazo",
         "rawType": "int64",
         "type": "integer"
        },
        {
         "name": "Categoria",
         "rawType": "object",
         "type": "string"
        },
        {
         "name": "Hallazgo",
         "rawType": "object",
         "type": "string"
        },
        {
         "name": "Tipo hallazgo",
         "rawType": "object",
         "type": "string"
        },
        {
         "name": "Riesgo",
         "rawType": "object",
         "type": "string"
        },
        {
         "name": "Calificación cartera",
         "rawType": "object",
         "type": "string"
        },
        {
         "name": "Relaciones Laborales",
         "rawType": "object",
         "type": "unknown"
        },
        {
         "name": "Oficina ",
         "rawType": "object",
         "type": "string"
        },
        {
         "name": "zona ",
         "rawType": "int64",
         "type": "integer"
        },
        {
         "name": "Regional",
         "rawType": "int64",
         "type": "integer"
        },
        {
         "name": "Validación unico",
         "rawType": "object",
         "type": "unknown"
        },
        {
         "name": "Tipo analisis ",
         "rawType": "object",
         "type": "unknown"
        },
        {
         "name": "Clasificac analisis",
         "rawType": "object",
         "type": "unknown"
        },
        {
         "name": "Estado",
         "rawType": "object",
         "type": "string"
        },
        {
         "name": "Año",
         "rawType": "int64",
         "type": "integer"
        },
        {
         "name": "Tipo",
         "rawType": "object",
         "type": "string"
        }
       ],
       "ref": "a8136765-79c0-4b71-8abc-8c799ce5053b",
       "rows": [
        [
         "0",
         "1.0",
         "7.252.440",
         "Hector Julio Pabon Castano",
         "AIZ",
         "Juan Alejandro Trujillo Garcia",
         "Renovacion",
         "11-jun-21",
         null,
         "20-sep-22",
         "don patacon postobon",
         "15.069",
         "793",
         "36",
         "FRAUDE_Y_PRÁCTICAS_INDEBIDAS",
         "Crédito otorgado a mas de un titular con el mismo negocio",
         "Acto Irregular",
         "1 - Alto",
         "Si",
         "Si",
         "Dosquebradas",
         "12",
         "4",
         null,
         null,
         null,
         "Cancelada                     ",
         "2022",
         "Afecta Estabilidad"
        ],
        [
         "1",
         "2.0",
         "1.143.936.676",
         "Casas Marisol                                                         ",
         "JQQ",
         "Alexander Joaqui Quintero",
         "Renovacion",
         "15-jun-21",
         "08-jun-21",
         null,
         "expendio de comidas preparadas en cafeterias                ",
         "402.0",
         "209",
         "626",
         "FRAUDE_Y_PRÁCTICAS_INDEBIDAS",
         "Presunto negocio inexistente",
         "Acto Irregular",
         "1 - Alto",
         "No",
         "Si",
         "Poblado",
         "1",
         "1",
         null,
         null,
         null,
         "Castigo                       ",
         "2022",
         "Afecta Estabilidad"
        ],
        [
         "2",
         "3.0",
         "1.193.501.439",
         "Jose Armando Agudelo Gomez",
         "HZT",
         "Aleatorio",
         null,
         "02-oct-22",
         "10-feb-22",
         "00-ene-00",
         "Gallera Trebol",
         "1.433",
         "179",
         "15",
         "HABILIDAD_EMPRESARIAL",
         "Dudas sobre propiedad del negocio",
         "Fallas en la Metodología",
         "1 - Alto",
         "Si",
         null,
         "Chaparral",
         "11",
         "4",
         null,
         null,
         null,
         "Cancelada                     ",
         "2022",
         "Afecta Estabilidad"
        ],
        [
         "3",
         "4.0",
         "1.088.033.647",
         "Jennifer  Lopez Perez",
         "IOC",
         "Nicolas  Suaza Pulgarin",
         "Nuevo",
         "03-may-22",
         null,
         "22-ago-22",
         "drogueria",
         "19.213",
         "992",
         "42",
         "FRAUDE_Y_PRÁCTICAS_INDEBIDAS",
         "Negocio no es del solicitante",
         "Acto Irregular",
         "1 - Alto",
         "Si",
         "Si",
         "Dosquebradas",
         "12",
         "4",
         null,
         null,
         null,
         "Modificado                    ",
         "2022",
         "Afecta Estabilidad"
        ],
        [
         "4",
         "5.0",
         "1.116.271.559",
         "Laura Marcela Valdes Zapata",
         "CZL",
         "Martha  Herrera Giraldo",
         "Renovación",
         "11-mar-22",
         "05-mar-22",
         "07-jun-22",
         "manualidades artes plasticas",
         "1.055",
         "206",
         "6",
         "FRAUDE_Y_PRÁCTICAS_INDEBIDAS",
         "Crédito otorgado a mas de un titular con el mismo negocio",
         "Acto Irregular",
         "1 - Alto",
         "Si",
         null,
         "Tulua",
         "3",
         "1",
         null,
         null,
         null,
         "Cancelada                     ",
         "2022",
         "Afecta Estabilidad"
        ],
        [
         "5",
         "6.0",
         "1.010.076.951",
         "Julitza  Zarabanda Silva",
         "HZT",
         "Aleatorio",
         null,
         "03-dic-22",
         "12-mar-22",
         "00-ene-00",
         "Cultivo Cafe",
         "3.033",
         "230",
         "24",
         "FRAUDE_Y_PRÁCTICAS_INDEBIDAS",
         "Negocio no es del solicitante",
         "Acto Irregular",
         "1 - Alto",
         "Si",
         null,
         "Chaparral",
         "11",
         "4",
         null,
         null,
         null,
         "Cancelada                     ",
         "2022",
         "Afecta Estabilidad"
        ],
        [
         "6",
         "7.0",
         "1.005.850.418",
         "Harold Stevel Cuellar Izquierdo",
         "HZT",
         "Aleatorio",
         null,
         "18/03/2022",
         "18-mar-22",
         "00-ene-00",
         "Cultivo Cafe",
         "3.033",
         "230",
         "24",
         "FRAUDE_Y_PRÁCTICAS_INDEBIDAS",
         "Negocio no es del solicitante",
         "Acto Irregular",
         "1 - Alto",
         "Si",
         null,
         "Chaparral",
         "11",
         "4",
         null,
         null,
         null,
         "Cancelada                     ",
         "2022",
         "Afecta Estabilidad"
        ],
        [
         "7",
         "8.0",
         "31.940.414",
         "Martha Cecilia Veru ",
         "AQT",
         "Quiroga Torres Alejandro",
         "Preferencial",
         "23-jul-22",
         "18-jul-22",
         "12-ago-22",
         "Venta De Mercancia",
         "2.481",
         "171",
         "24",
         "FRAUDE_Y_PRÁCTICAS_INDEBIDAS",
         "Presunto negocio inexistente",
         "Acto Irregular",
         "1 - Alto",
         "Si",
         "Si",
         "Independencia",
         "1",
         "1",
         null,
         null,
         null,
         "Normal                        ",
         "2022",
         "Afecta Estabilidad"
        ],
        [
         "8",
         "9.0",
         "42.058.369",
         "Alba Nory Ospina Quintero",
         "EQJ",
         "Martha Patricia Agudelo Ospina",
         "Preferenci",
         "28-abr-22",
         null,
         "14-sep-22",
         "mercancia",
         "30.933",
         "1.359",
         "42",
         "FRAUDE_Y_PRÁCTICAS_INDEBIDAS",
         "Presunto negocio inexistente",
         "Acto Irregular",
         "1 - Alto",
         "No",
         "Si",
         "Dosquebradas",
         "12",
         "4",
         null,
         null,
         null,
         "Normal                        ",
         "2022",
         "Afecta Estabilidad"
        ],
        [
         "9",
         "10.0",
         "28.779.854",
         "Carmelita  Arias De Diaz",
         "IKO",
         "Carlos Andres Cardona ",
         "Preferenci",
         "10-may-22",
         null,
         "13-sep-22",
         "venta de catalogos",
         "2.1",
         "168",
         "24",
         "FRAUDE_Y_PRÁCTICAS_INDEBIDAS",
         "Presunto negocio inexistente",
         "Acto Irregular",
         "1 - Alto",
         "No",
         "Si",
         "Dosquebradas",
         "12",
         "4",
         null,
         null,
         null,
         "Cancelada                     ",
         "2022",
         "Afecta Estabilidad"
        ],
        [
         "10",
         "11.0",
         "31.976.162",
         "Liana Shirley Zapata Maya",
         "CZL",
         "Martha  Herrera Giraldo",
         "Renovación",
         "11-may-22",
         "24-may-22",
         "07-jun-22",
         "clases de pintura manualidades",
         "400.0",
         "84",
         "8",
         "FRAUDE_Y_PRÁCTICAS_INDEBIDAS",
         "Crédito otorgado a mas de un titular con el mismo negocio",
         "Acto Irregular",
         "1 - Alto",
         "Si",
         null,
         "Tulua",
         "3",
         "1",
         null,
         null,
         null,
         "Cancelada                     ",
         "2022",
         "Afecta Estabilidad"
        ],
        [
         "11",
         "12.0",
         "22.011.625",
         "Angela Patricia Pabon Castano",
         "IKO",
         "Carlos Andres Cardona ",
         "Renovacion",
         "13-may-22",
         null,
         "14-sep-22",
         "don patacon",
         "31.032",
         "1.228",
         "42",
         "FRAUDE_Y_PRÁCTICAS_INDEBIDAS",
         "Crédito otorgado a mas de un titular con el mismo negocio",
         "Acto Irregular",
         "1 - Alto",
         "Si",
         "Si",
         "Dosquebradas",
         "12",
         "4",
         null,
         null,
         null,
         "Normal                        ",
         "2022",
         "Afecta Estabilidad"
        ],
        [
         "12",
         "13.0",
         "1.006.004.562",
         "Flor Alba Nunez Tagua",
         "MAP",
         "Monica Andrea Parra Murcia",
         "Renovación",
         "18-may-22",
         "10-may-22",
         "22-ago-22",
         "Manualidades",
         "3.308",
         "431",
         "15",
         "FRAUDE_Y_PRÁCTICAS_INDEBIDAS",
         "Presunto negocio inexistente",
         "Acto Irregular",
         "1 - Alto",
         "Si",
         "Si",
         "Independencia",
         "1",
         "1",
         null,
         null,
         null,
         "Cancelada                     ",
         "2022",
         "Afecta Estabilidad"
        ],
        [
         "13",
         "14.0",
         "1.234.197.082",
         "Kevin Steven Alzate Echeverry",
         "CAV",
         "Villareal Diaz Carlos Andres",
         "Nuevo",
         "'17/05/2022",
         "16-may-22",
         "15-jul-22",
         "Maestro De Obra Blanca ",
         "1.279",
         "142",
         "12",
         "FRAUDE_Y_PRÁCTICAS_INDEBIDAS",
         "Presunto negocio inexistente",
         "Acto Irregular",
         "1 - Alto",
         "No",
         "Si",
         "Laureano Gómez",
         "2",
         "1",
         null,
         null,
         null,
         "Cancelada                     ",
         "2022",
         "Afecta Estabilidad"
        ],
        [
         "14",
         "15.0",
         "1.193.564.795",
         "Kelin Dayana Rivera Caceres",
         "BHU",
         "Gustavo Adolfo Pineda",
         "Renovación",
         "28-may-22",
         "28-may-22",
         "07-jun-22",
         "alquiler de banos",
         "12.124",
         "673",
         "36",
         "FRAUDE_Y_PRÁCTICAS_INDEBIDAS",
         "Crédito otorgado a mas de un titular con el mismo negocio",
         "Acto Irregular",
         "1 - Alto",
         "Si",
         null,
         "Tulua",
         "3",
         "1",
         null,
         null,
         null,
         "Modificado                    ",
         "2022",
         "Afecta Estabilidad"
        ]
       ],
       "shape": {
        "columns": 28,
        "rows": 15
       }
      },
      "text/html": [
       "<div>\n",
       "<style scoped>\n",
       "    .dataframe tbody tr th:only-of-type {\n",
       "        vertical-align: middle;\n",
       "    }\n",
       "\n",
       "    .dataframe tbody tr th {\n",
       "        vertical-align: top;\n",
       "    }\n",
       "\n",
       "    .dataframe thead th {\n",
       "        text-align: right;\n",
       "    }\n",
       "</style>\n",
       "<table border=\"1\" class=\"dataframe\">\n",
       "  <thead>\n",
       "    <tr style=\"text-align: right;\">\n",
       "      <th></th>\n",
       "      <th>Num</th>\n",
       "      <th>ID_modif</th>\n",
       "      <th>Cliente</th>\n",
       "      <th>Analista</th>\n",
       "      <th>Nombre analista</th>\n",
       "      <th>Tipo crédito</th>\n",
       "      <th>Fecha desem</th>\n",
       "      <th>Visita_analista_crédito</th>\n",
       "      <th>Visita_auditor</th>\n",
       "      <th>Actividad</th>\n",
       "      <th>...</th>\n",
       "      <th>Relaciones Laborales</th>\n",
       "      <th>Oficina</th>\n",
       "      <th>zona</th>\n",
       "      <th>Regional</th>\n",
       "      <th>Validación unico</th>\n",
       "      <th>Tipo analisis</th>\n",
       "      <th>Clasificac analisis</th>\n",
       "      <th>Estado</th>\n",
       "      <th>Año</th>\n",
       "      <th>Tipo</th>\n",
       "    </tr>\n",
       "  </thead>\n",
       "  <tbody>\n",
       "    <tr>\n",
       "      <th>0</th>\n",
       "      <td>1.0</td>\n",
       "      <td>7.252.440</td>\n",
       "      <td>Hector Julio Pabon Castano</td>\n",
       "      <td>AIZ</td>\n",
       "      <td>Juan Alejandro Trujillo Garcia</td>\n",
       "      <td>Renovacion</td>\n",
       "      <td>11-jun-21</td>\n",
       "      <td>NaN</td>\n",
       "      <td>20-sep-22</td>\n",
       "      <td>don patacon postobon</td>\n",
       "      <td>...</td>\n",
       "      <td>Si</td>\n",
       "      <td>Dosquebradas</td>\n",
       "      <td>12</td>\n",
       "      <td>4</td>\n",
       "      <td>NaN</td>\n",
       "      <td>NaN</td>\n",
       "      <td>NaN</td>\n",
       "      <td>Cancelada</td>\n",
       "      <td>2022</td>\n",
       "      <td>Afecta Estabilidad</td>\n",
       "    </tr>\n",
       "    <tr>\n",
       "      <th>1</th>\n",
       "      <td>2.0</td>\n",
       "      <td>1.143.936.676</td>\n",
       "      <td>Casas Marisol                                 ...</td>\n",
       "      <td>JQQ</td>\n",
       "      <td>Alexander Joaqui Quintero</td>\n",
       "      <td>Renovacion</td>\n",
       "      <td>15-jun-21</td>\n",
       "      <td>08-jun-21</td>\n",
       "      <td>NaN</td>\n",
       "      <td>expendio de comidas preparadas en cafeterias  ...</td>\n",
       "      <td>...</td>\n",
       "      <td>Si</td>\n",
       "      <td>Poblado</td>\n",
       "      <td>1</td>\n",
       "      <td>1</td>\n",
       "      <td>NaN</td>\n",
       "      <td>NaN</td>\n",
       "      <td>NaN</td>\n",
       "      <td>Castigo</td>\n",
       "      <td>2022</td>\n",
       "      <td>Afecta Estabilidad</td>\n",
       "    </tr>\n",
       "    <tr>\n",
       "      <th>2</th>\n",
       "      <td>3.0</td>\n",
       "      <td>1.193.501.439</td>\n",
       "      <td>Jose Armando Agudelo Gomez</td>\n",
       "      <td>HZT</td>\n",
       "      <td>Aleatorio</td>\n",
       "      <td>NaN</td>\n",
       "      <td>02-oct-22</td>\n",
       "      <td>10-feb-22</td>\n",
       "      <td>00-ene-00</td>\n",
       "      <td>Gallera Trebol</td>\n",
       "      <td>...</td>\n",
       "      <td>NaN</td>\n",
       "      <td>Chaparral</td>\n",
       "      <td>11</td>\n",
       "      <td>4</td>\n",
       "      <td>NaN</td>\n",
       "      <td>NaN</td>\n",
       "      <td>NaN</td>\n",
       "      <td>Cancelada</td>\n",
       "      <td>2022</td>\n",
       "      <td>Afecta Estabilidad</td>\n",
       "    </tr>\n",
       "    <tr>\n",
       "      <th>3</th>\n",
       "      <td>4.0</td>\n",
       "      <td>1.088.033.647</td>\n",
       "      <td>Jennifer  Lopez Perez</td>\n",
       "      <td>IOC</td>\n",
       "      <td>Nicolas  Suaza Pulgarin</td>\n",
       "      <td>Nuevo</td>\n",
       "      <td>03-may-22</td>\n",
       "      <td>NaN</td>\n",
       "      <td>22-ago-22</td>\n",
       "      <td>drogueria</td>\n",
       "      <td>...</td>\n",
       "      <td>Si</td>\n",
       "      <td>Dosquebradas</td>\n",
       "      <td>12</td>\n",
       "      <td>4</td>\n",
       "      <td>NaN</td>\n",
       "      <td>NaN</td>\n",
       "      <td>NaN</td>\n",
       "      <td>Modificado</td>\n",
       "      <td>2022</td>\n",
       "      <td>Afecta Estabilidad</td>\n",
       "    </tr>\n",
       "    <tr>\n",
       "      <th>4</th>\n",
       "      <td>5.0</td>\n",
       "      <td>1.116.271.559</td>\n",
       "      <td>Laura Marcela Valdes Zapata</td>\n",
       "      <td>CZL</td>\n",
       "      <td>Martha  Herrera Giraldo</td>\n",
       "      <td>Renovación</td>\n",
       "      <td>11-mar-22</td>\n",
       "      <td>05-mar-22</td>\n",
       "      <td>07-jun-22</td>\n",
       "      <td>manualidades artes plasticas</td>\n",
       "      <td>...</td>\n",
       "      <td>NaN</td>\n",
       "      <td>Tulua</td>\n",
       "      <td>3</td>\n",
       "      <td>1</td>\n",
       "      <td>NaN</td>\n",
       "      <td>NaN</td>\n",
       "      <td>NaN</td>\n",
       "      <td>Cancelada</td>\n",
       "      <td>2022</td>\n",
       "      <td>Afecta Estabilidad</td>\n",
       "    </tr>\n",
       "    <tr>\n",
       "      <th>5</th>\n",
       "      <td>6.0</td>\n",
       "      <td>1.010.076.951</td>\n",
       "      <td>Julitza  Zarabanda Silva</td>\n",
       "      <td>HZT</td>\n",
       "      <td>Aleatorio</td>\n",
       "      <td>NaN</td>\n",
       "      <td>03-dic-22</td>\n",
       "      <td>12-mar-22</td>\n",
       "      <td>00-ene-00</td>\n",
       "      <td>Cultivo Cafe</td>\n",
       "      <td>...</td>\n",
       "      <td>NaN</td>\n",
       "      <td>Chaparral</td>\n",
       "      <td>11</td>\n",
       "      <td>4</td>\n",
       "      <td>NaN</td>\n",
       "      <td>NaN</td>\n",
       "      <td>NaN</td>\n",
       "      <td>Cancelada</td>\n",
       "      <td>2022</td>\n",
       "      <td>Afecta Estabilidad</td>\n",
       "    </tr>\n",
       "    <tr>\n",
       "      <th>6</th>\n",
       "      <td>7.0</td>\n",
       "      <td>1.005.850.418</td>\n",
       "      <td>Harold Stevel Cuellar Izquierdo</td>\n",
       "      <td>HZT</td>\n",
       "      <td>Aleatorio</td>\n",
       "      <td>NaN</td>\n",
       "      <td>18/03/2022</td>\n",
       "      <td>18-mar-22</td>\n",
       "      <td>00-ene-00</td>\n",
       "      <td>Cultivo Cafe</td>\n",
       "      <td>...</td>\n",
       "      <td>NaN</td>\n",
       "      <td>Chaparral</td>\n",
       "      <td>11</td>\n",
       "      <td>4</td>\n",
       "      <td>NaN</td>\n",
       "      <td>NaN</td>\n",
       "      <td>NaN</td>\n",
       "      <td>Cancelada</td>\n",
       "      <td>2022</td>\n",
       "      <td>Afecta Estabilidad</td>\n",
       "    </tr>\n",
       "    <tr>\n",
       "      <th>7</th>\n",
       "      <td>8.0</td>\n",
       "      <td>31.940.414</td>\n",
       "      <td>Martha Cecilia Veru</td>\n",
       "      <td>AQT</td>\n",
       "      <td>Quiroga Torres Alejandro</td>\n",
       "      <td>Preferencial</td>\n",
       "      <td>23-jul-22</td>\n",
       "      <td>18-jul-22</td>\n",
       "      <td>12-ago-22</td>\n",
       "      <td>Venta De Mercancia</td>\n",
       "      <td>...</td>\n",
       "      <td>Si</td>\n",
       "      <td>Independencia</td>\n",
       "      <td>1</td>\n",
       "      <td>1</td>\n",
       "      <td>NaN</td>\n",
       "      <td>NaN</td>\n",
       "      <td>NaN</td>\n",
       "      <td>Normal</td>\n",
       "      <td>2022</td>\n",
       "      <td>Afecta Estabilidad</td>\n",
       "    </tr>\n",
       "    <tr>\n",
       "      <th>8</th>\n",
       "      <td>9.0</td>\n",
       "      <td>42.058.369</td>\n",
       "      <td>Alba Nory Ospina Quintero</td>\n",
       "      <td>EQJ</td>\n",
       "      <td>Martha Patricia Agudelo Ospina</td>\n",
       "      <td>Preferenci</td>\n",
       "      <td>28-abr-22</td>\n",
       "      <td>NaN</td>\n",
       "      <td>14-sep-22</td>\n",
       "      <td>mercancia</td>\n",
       "      <td>...</td>\n",
       "      <td>Si</td>\n",
       "      <td>Dosquebradas</td>\n",
       "      <td>12</td>\n",
       "      <td>4</td>\n",
       "      <td>NaN</td>\n",
       "      <td>NaN</td>\n",
       "      <td>NaN</td>\n",
       "      <td>Normal</td>\n",
       "      <td>2022</td>\n",
       "      <td>Afecta Estabilidad</td>\n",
       "    </tr>\n",
       "    <tr>\n",
       "      <th>9</th>\n",
       "      <td>10.0</td>\n",
       "      <td>28.779.854</td>\n",
       "      <td>Carmelita  Arias De Diaz</td>\n",
       "      <td>IKO</td>\n",
       "      <td>Carlos Andres Cardona</td>\n",
       "      <td>Preferenci</td>\n",
       "      <td>10-may-22</td>\n",
       "      <td>NaN</td>\n",
       "      <td>13-sep-22</td>\n",
       "      <td>venta de catalogos</td>\n",
       "      <td>...</td>\n",
       "      <td>Si</td>\n",
       "      <td>Dosquebradas</td>\n",
       "      <td>12</td>\n",
       "      <td>4</td>\n",
       "      <td>NaN</td>\n",
       "      <td>NaN</td>\n",
       "      <td>NaN</td>\n",
       "      <td>Cancelada</td>\n",
       "      <td>2022</td>\n",
       "      <td>Afecta Estabilidad</td>\n",
       "    </tr>\n",
       "    <tr>\n",
       "      <th>10</th>\n",
       "      <td>11.0</td>\n",
       "      <td>31.976.162</td>\n",
       "      <td>Liana Shirley Zapata Maya</td>\n",
       "      <td>CZL</td>\n",
       "      <td>Martha  Herrera Giraldo</td>\n",
       "      <td>Renovación</td>\n",
       "      <td>11-may-22</td>\n",
       "      <td>24-may-22</td>\n",
       "      <td>07-jun-22</td>\n",
       "      <td>clases de pintura manualidades</td>\n",
       "      <td>...</td>\n",
       "      <td>NaN</td>\n",
       "      <td>Tulua</td>\n",
       "      <td>3</td>\n",
       "      <td>1</td>\n",
       "      <td>NaN</td>\n",
       "      <td>NaN</td>\n",
       "      <td>NaN</td>\n",
       "      <td>Cancelada</td>\n",
       "      <td>2022</td>\n",
       "      <td>Afecta Estabilidad</td>\n",
       "    </tr>\n",
       "    <tr>\n",
       "      <th>11</th>\n",
       "      <td>12.0</td>\n",
       "      <td>22.011.625</td>\n",
       "      <td>Angela Patricia Pabon Castano</td>\n",
       "      <td>IKO</td>\n",
       "      <td>Carlos Andres Cardona</td>\n",
       "      <td>Renovacion</td>\n",
       "      <td>13-may-22</td>\n",
       "      <td>NaN</td>\n",
       "      <td>14-sep-22</td>\n",
       "      <td>don patacon</td>\n",
       "      <td>...</td>\n",
       "      <td>Si</td>\n",
       "      <td>Dosquebradas</td>\n",
       "      <td>12</td>\n",
       "      <td>4</td>\n",
       "      <td>NaN</td>\n",
       "      <td>NaN</td>\n",
       "      <td>NaN</td>\n",
       "      <td>Normal</td>\n",
       "      <td>2022</td>\n",
       "      <td>Afecta Estabilidad</td>\n",
       "    </tr>\n",
       "    <tr>\n",
       "      <th>12</th>\n",
       "      <td>13.0</td>\n",
       "      <td>1.006.004.562</td>\n",
       "      <td>Flor Alba Nunez Tagua</td>\n",
       "      <td>MAP</td>\n",
       "      <td>Monica Andrea Parra Murcia</td>\n",
       "      <td>Renovación</td>\n",
       "      <td>18-may-22</td>\n",
       "      <td>10-may-22</td>\n",
       "      <td>22-ago-22</td>\n",
       "      <td>Manualidades</td>\n",
       "      <td>...</td>\n",
       "      <td>Si</td>\n",
       "      <td>Independencia</td>\n",
       "      <td>1</td>\n",
       "      <td>1</td>\n",
       "      <td>NaN</td>\n",
       "      <td>NaN</td>\n",
       "      <td>NaN</td>\n",
       "      <td>Cancelada</td>\n",
       "      <td>2022</td>\n",
       "      <td>Afecta Estabilidad</td>\n",
       "    </tr>\n",
       "    <tr>\n",
       "      <th>13</th>\n",
       "      <td>14.0</td>\n",
       "      <td>1.234.197.082</td>\n",
       "      <td>Kevin Steven Alzate Echeverry</td>\n",
       "      <td>CAV</td>\n",
       "      <td>Villareal Diaz Carlos Andres</td>\n",
       "      <td>Nuevo</td>\n",
       "      <td>'17/05/2022</td>\n",
       "      <td>16-may-22</td>\n",
       "      <td>15-jul-22</td>\n",
       "      <td>Maestro De Obra Blanca</td>\n",
       "      <td>...</td>\n",
       "      <td>Si</td>\n",
       "      <td>Laureano Gómez</td>\n",
       "      <td>2</td>\n",
       "      <td>1</td>\n",
       "      <td>NaN</td>\n",
       "      <td>NaN</td>\n",
       "      <td>NaN</td>\n",
       "      <td>Cancelada</td>\n",
       "      <td>2022</td>\n",
       "      <td>Afecta Estabilidad</td>\n",
       "    </tr>\n",
       "    <tr>\n",
       "      <th>14</th>\n",
       "      <td>15.0</td>\n",
       "      <td>1.193.564.795</td>\n",
       "      <td>Kelin Dayana Rivera Caceres</td>\n",
       "      <td>BHU</td>\n",
       "      <td>Gustavo Adolfo Pineda</td>\n",
       "      <td>Renovación</td>\n",
       "      <td>28-may-22</td>\n",
       "      <td>28-may-22</td>\n",
       "      <td>07-jun-22</td>\n",
       "      <td>alquiler de banos</td>\n",
       "      <td>...</td>\n",
       "      <td>NaN</td>\n",
       "      <td>Tulua</td>\n",
       "      <td>3</td>\n",
       "      <td>1</td>\n",
       "      <td>NaN</td>\n",
       "      <td>NaN</td>\n",
       "      <td>NaN</td>\n",
       "      <td>Modificado</td>\n",
       "      <td>2022</td>\n",
       "      <td>Afecta Estabilidad</td>\n",
       "    </tr>\n",
       "  </tbody>\n",
       "</table>\n",
       "<p>15 rows × 28 columns</p>\n",
       "</div>"
      ],
      "text/plain": [
       "     Num       ID_modif                                            Cliente  \\\n",
       "0    1.0      7.252.440                         Hector Julio Pabon Castano   \n",
       "1    2.0  1.143.936.676  Casas Marisol                                 ...   \n",
       "2    3.0  1.193.501.439                         Jose Armando Agudelo Gomez   \n",
       "3    4.0  1.088.033.647                              Jennifer  Lopez Perez   \n",
       "4    5.0  1.116.271.559                        Laura Marcela Valdes Zapata   \n",
       "5    6.0  1.010.076.951                           Julitza  Zarabanda Silva   \n",
       "6    7.0  1.005.850.418                    Harold Stevel Cuellar Izquierdo   \n",
       "7    8.0     31.940.414                               Martha Cecilia Veru    \n",
       "8    9.0     42.058.369                          Alba Nory Ospina Quintero   \n",
       "9   10.0     28.779.854                           Carmelita  Arias De Diaz   \n",
       "10  11.0     31.976.162                          Liana Shirley Zapata Maya   \n",
       "11  12.0     22.011.625                      Angela Patricia Pabon Castano   \n",
       "12  13.0  1.006.004.562                              Flor Alba Nunez Tagua   \n",
       "13  14.0  1.234.197.082                      Kevin Steven Alzate Echeverry   \n",
       "14  15.0  1.193.564.795                        Kelin Dayana Rivera Caceres   \n",
       "\n",
       "   Analista                 Nombre analista  Tipo crédito  Fecha desem  \\\n",
       "0       AIZ  Juan Alejandro Trujillo Garcia    Renovacion    11-jun-21   \n",
       "1       JQQ       Alexander Joaqui Quintero    Renovacion    15-jun-21   \n",
       "2       HZT                       Aleatorio           NaN    02-oct-22   \n",
       "3       IOC         Nicolas  Suaza Pulgarin         Nuevo    03-may-22   \n",
       "4       CZL         Martha  Herrera Giraldo    Renovación    11-mar-22   \n",
       "5       HZT                       Aleatorio           NaN    03-dic-22   \n",
       "6       HZT                       Aleatorio           NaN   18/03/2022   \n",
       "7       AQT        Quiroga Torres Alejandro  Preferencial    23-jul-22   \n",
       "8       EQJ  Martha Patricia Agudelo Ospina    Preferenci    28-abr-22   \n",
       "9       IKO          Carlos Andres Cardona     Preferenci    10-may-22   \n",
       "10      CZL         Martha  Herrera Giraldo    Renovación    11-may-22   \n",
       "11      IKO          Carlos Andres Cardona     Renovacion    13-may-22   \n",
       "12      MAP      Monica Andrea Parra Murcia    Renovación    18-may-22   \n",
       "13      CAV    Villareal Diaz Carlos Andres         Nuevo  '17/05/2022   \n",
       "14      BHU           Gustavo Adolfo Pineda    Renovación    28-may-22   \n",
       "\n",
       "   Visita_analista_crédito Visita_auditor  \\\n",
       "0                      NaN      20-sep-22   \n",
       "1                08-jun-21            NaN   \n",
       "2                10-feb-22      00-ene-00   \n",
       "3                      NaN      22-ago-22   \n",
       "4                05-mar-22      07-jun-22   \n",
       "5                12-mar-22      00-ene-00   \n",
       "6                18-mar-22      00-ene-00   \n",
       "7                18-jul-22      12-ago-22   \n",
       "8                      NaN      14-sep-22   \n",
       "9                      NaN      13-sep-22   \n",
       "10               24-may-22      07-jun-22   \n",
       "11                     NaN      14-sep-22   \n",
       "12               10-may-22      22-ago-22   \n",
       "13               16-may-22      15-jul-22   \n",
       "14               28-may-22      07-jun-22   \n",
       "\n",
       "                                            Actividad  ...  \\\n",
       "0                                don patacon postobon  ...   \n",
       "1   expendio de comidas preparadas en cafeterias  ...  ...   \n",
       "2                                      Gallera Trebol  ...   \n",
       "3                                           drogueria  ...   \n",
       "4                        manualidades artes plasticas  ...   \n",
       "5                                        Cultivo Cafe  ...   \n",
       "6                                        Cultivo Cafe  ...   \n",
       "7                                  Venta De Mercancia  ...   \n",
       "8                                           mercancia  ...   \n",
       "9                                  venta de catalogos  ...   \n",
       "10                     clases de pintura manualidades  ...   \n",
       "11                                        don patacon  ...   \n",
       "12                                       Manualidades  ...   \n",
       "13                            Maestro De Obra Blanca   ...   \n",
       "14                                  alquiler de banos  ...   \n",
       "\n",
       "    Relaciones Laborales        Oficina   zona  Regional Validación unico  \\\n",
       "0                     Si    Dosquebradas     12        4              NaN   \n",
       "1                     Si         Poblado      1        1              NaN   \n",
       "2                    NaN       Chaparral     11        4              NaN   \n",
       "3                     Si    Dosquebradas     12        4              NaN   \n",
       "4                    NaN           Tulua      3        1              NaN   \n",
       "5                    NaN       Chaparral     11        4              NaN   \n",
       "6                    NaN       Chaparral     11        4              NaN   \n",
       "7                     Si   Independencia      1        1              NaN   \n",
       "8                     Si    Dosquebradas     12        4              NaN   \n",
       "9                     Si    Dosquebradas     12        4              NaN   \n",
       "10                   NaN           Tulua      3        1              NaN   \n",
       "11                    Si    Dosquebradas     12        4              NaN   \n",
       "12                    Si   Independencia      1        1              NaN   \n",
       "13                    Si  Laureano Gómez      2        1              NaN   \n",
       "14                   NaN           Tulua      3        1              NaN   \n",
       "\n",
       "   Tipo analisis  Clasificac analisis                          Estado   Año  \\\n",
       "0             NaN                 NaN  Cancelada                       2022   \n",
       "1             NaN                 NaN  Castigo                         2022   \n",
       "2             NaN                 NaN  Cancelada                       2022   \n",
       "3             NaN                 NaN  Modificado                      2022   \n",
       "4             NaN                 NaN  Cancelada                       2022   \n",
       "5             NaN                 NaN  Cancelada                       2022   \n",
       "6             NaN                 NaN  Cancelada                       2022   \n",
       "7             NaN                 NaN  Normal                          2022   \n",
       "8             NaN                 NaN  Normal                          2022   \n",
       "9             NaN                 NaN  Cancelada                       2022   \n",
       "10            NaN                 NaN  Cancelada                       2022   \n",
       "11            NaN                 NaN  Normal                          2022   \n",
       "12            NaN                 NaN  Cancelada                       2022   \n",
       "13            NaN                 NaN  Cancelada                       2022   \n",
       "14            NaN                 NaN  Modificado                      2022   \n",
       "\n",
       "                  Tipo  \n",
       "0   Afecta Estabilidad  \n",
       "1   Afecta Estabilidad  \n",
       "2   Afecta Estabilidad  \n",
       "3   Afecta Estabilidad  \n",
       "4   Afecta Estabilidad  \n",
       "5   Afecta Estabilidad  \n",
       "6   Afecta Estabilidad  \n",
       "7   Afecta Estabilidad  \n",
       "8   Afecta Estabilidad  \n",
       "9   Afecta Estabilidad  \n",
       "10  Afecta Estabilidad  \n",
       "11  Afecta Estabilidad  \n",
       "12  Afecta Estabilidad  \n",
       "13  Afecta Estabilidad  \n",
       "14  Afecta Estabilidad  \n",
       "\n",
       "[15 rows x 28 columns]"
      ]
     },
     "execution_count": 2,
     "metadata": {},
     "output_type": "execute_result"
    }
   ],
   "source": [
    "df_historico = pd.read_csv('Historico_hallazgos(Hallazgos).csv', sep=';')\n",
    "df_historico.head(15)"
   ]
  },
  {
   "cell_type": "code",
   "execution_count": 3,
   "id": "68b36164",
   "metadata": {},
   "outputs": [
    {
     "data": {
      "application/vnd.microsoft.datawrangler.viewer.v0+json": {
       "columns": [
        {
         "name": "index",
         "rawType": "int64",
         "type": "integer"
        },
        {
         "name": "zona",
         "rawType": "int64",
         "type": "integer"
        },
        {
         "name": "coficina",
         "rawType": "int64",
         "type": "integer"
        },
        {
         "name": "noficina",
         "rawType": "object",
         "type": "string"
        },
        {
         "name": "credito",
         "rawType": "object",
         "type": "string"
        },
        {
         "name": "id",
         "rawType": "float64",
         "type": "float"
        },
        {
         "name": "nombre",
         "rawType": "object",
         "type": "string"
        },
        {
         "name": "finicio",
         "rawType": "object",
         "type": "string"
        },
        {
         "name": "analista",
         "rawType": "object",
         "type": "string"
        },
        {
         "name": "saldo",
         "rawType": "object",
         "type": "string"
        },
        {
         "name": "monto",
         "rawType": "object",
         "type": "string"
        },
        {
         "name": "plazo",
         "rawType": "int64",
         "type": "integer"
        },
        {
         "name": "vcuota",
         "rawType": "object",
         "type": "string"
        },
        {
         "name": "tasa",
         "rawType": "object",
         "type": "string"
        },
        {
         "name": "producto",
         "rawType": "object",
         "type": "string"
        },
        {
         "name": "tipo",
         "rawType": "object",
         "type": "string"
        },
        {
         "name": "fproxpago",
         "rawType": "object",
         "type": "string"
        }
       ],
       "ref": "c5e53792-6ca0-47c1-88fc-ad566cf3829a",
       "rows": [
        [
         "0",
         "1",
         "1",
         "PRINCIPAL",
         "001MH0109358",
         "13435949.0",
         "ALDEMAR MENDEZ RIV",
         "31/10/2020 0:00",
         "DPC",
         " 1.181.630 ",
         " 1.181.630 ",
         "10",
         " 147.304 ",
         "32,16",
         "MH01",
         "NUEVO",
         "10/12/2024"
        ],
        [
         "1",
         "1",
         "1",
         "PRINCIPAL",
         "001PG1200252",
         "66848425.0",
         "LUZ AMANDA DIAZ RI",
         "31/10/2020 0:00",
         "JHJ",
         " 1.166.688 ",
         " 1.166.688 ",
         "12",
         " 57.766 ",
         "37,08",
         "PG12",
         "NUEVO",
         "10/12/2024"
        ],
        [
         "2",
         "1",
         "1",
         "PRINCIPAL",
         "001PG1200253",
         "1010138485.0",
         "Danna Catalina Ort",
         "31/10/2020 0:00",
         "FUX",
         " 1.537.195 ",
         " 1.537.195 ",
         "15",
         " 68.193 ",
         "37,08",
         "PG12",
         "NUEVO",
         "05/12/2024"
        ],
        [
         "3",
         "1",
         "1",
         "PRINCIPAL",
         "001PG1200254",
         "14959662.0",
         "MIGUEL GERARDO ENR",
         "31/10/2020 0:00",
         "GFD",
         " 1.877.610 ",
         " 1.877.610 ",
         "15",
         " 87.164 ",
         "37,08",
         "PG12",
         "NUEVO",
         "07/12/2024"
        ],
        [
         "4",
         "1",
         "1",
         "PRINCIPAL",
         "001PG1200255",
         "1118871442.0",
         "LIZA LARA",
         "31/10/2020 0:00",
         "JHJ",
         " 1.266.688 ",
         " 1.266.688 ",
         "12",
         " 58.802 ",
         "37,08",
         "PG12",
         "NUEVO",
         "07/12/2024"
        ]
       ],
       "shape": {
        "columns": 16,
        "rows": 5
       }
      },
      "text/html": [
       "<div>\n",
       "<style scoped>\n",
       "    .dataframe tbody tr th:only-of-type {\n",
       "        vertical-align: middle;\n",
       "    }\n",
       "\n",
       "    .dataframe tbody tr th {\n",
       "        vertical-align: top;\n",
       "    }\n",
       "\n",
       "    .dataframe thead th {\n",
       "        text-align: right;\n",
       "    }\n",
       "</style>\n",
       "<table border=\"1\" class=\"dataframe\">\n",
       "  <thead>\n",
       "    <tr style=\"text-align: right;\">\n",
       "      <th></th>\n",
       "      <th>zona</th>\n",
       "      <th>coficina</th>\n",
       "      <th>noficina</th>\n",
       "      <th>credito</th>\n",
       "      <th>id</th>\n",
       "      <th>nombre</th>\n",
       "      <th>finicio</th>\n",
       "      <th>analista</th>\n",
       "      <th>saldo</th>\n",
       "      <th>monto</th>\n",
       "      <th>plazo</th>\n",
       "      <th>vcuota</th>\n",
       "      <th>tasa</th>\n",
       "      <th>producto</th>\n",
       "      <th>tipo</th>\n",
       "      <th>fproxpago</th>\n",
       "    </tr>\n",
       "  </thead>\n",
       "  <tbody>\n",
       "    <tr>\n",
       "      <th>0</th>\n",
       "      <td>1</td>\n",
       "      <td>1</td>\n",
       "      <td>PRINCIPAL</td>\n",
       "      <td>001MH0109358</td>\n",
       "      <td>1.343595e+07</td>\n",
       "      <td>ALDEMAR MENDEZ RIV</td>\n",
       "      <td>31/10/2020 0:00</td>\n",
       "      <td>DPC</td>\n",
       "      <td>1.181.630</td>\n",
       "      <td>1.181.630</td>\n",
       "      <td>10</td>\n",
       "      <td>147.304</td>\n",
       "      <td>32,16</td>\n",
       "      <td>MH01</td>\n",
       "      <td>NUEVO</td>\n",
       "      <td>10/12/2024</td>\n",
       "    </tr>\n",
       "    <tr>\n",
       "      <th>1</th>\n",
       "      <td>1</td>\n",
       "      <td>1</td>\n",
       "      <td>PRINCIPAL</td>\n",
       "      <td>001PG1200252</td>\n",
       "      <td>6.684842e+07</td>\n",
       "      <td>LUZ AMANDA DIAZ RI</td>\n",
       "      <td>31/10/2020 0:00</td>\n",
       "      <td>JHJ</td>\n",
       "      <td>1.166.688</td>\n",
       "      <td>1.166.688</td>\n",
       "      <td>12</td>\n",
       "      <td>57.766</td>\n",
       "      <td>37,08</td>\n",
       "      <td>PG12</td>\n",
       "      <td>NUEVO</td>\n",
       "      <td>10/12/2024</td>\n",
       "    </tr>\n",
       "    <tr>\n",
       "      <th>2</th>\n",
       "      <td>1</td>\n",
       "      <td>1</td>\n",
       "      <td>PRINCIPAL</td>\n",
       "      <td>001PG1200253</td>\n",
       "      <td>1.010138e+09</td>\n",
       "      <td>Danna Catalina Ort</td>\n",
       "      <td>31/10/2020 0:00</td>\n",
       "      <td>FUX</td>\n",
       "      <td>1.537.195</td>\n",
       "      <td>1.537.195</td>\n",
       "      <td>15</td>\n",
       "      <td>68.193</td>\n",
       "      <td>37,08</td>\n",
       "      <td>PG12</td>\n",
       "      <td>NUEVO</td>\n",
       "      <td>05/12/2024</td>\n",
       "    </tr>\n",
       "    <tr>\n",
       "      <th>3</th>\n",
       "      <td>1</td>\n",
       "      <td>1</td>\n",
       "      <td>PRINCIPAL</td>\n",
       "      <td>001PG1200254</td>\n",
       "      <td>1.495966e+07</td>\n",
       "      <td>MIGUEL GERARDO ENR</td>\n",
       "      <td>31/10/2020 0:00</td>\n",
       "      <td>GFD</td>\n",
       "      <td>1.877.610</td>\n",
       "      <td>1.877.610</td>\n",
       "      <td>15</td>\n",
       "      <td>87.164</td>\n",
       "      <td>37,08</td>\n",
       "      <td>PG12</td>\n",
       "      <td>NUEVO</td>\n",
       "      <td>07/12/2024</td>\n",
       "    </tr>\n",
       "    <tr>\n",
       "      <th>4</th>\n",
       "      <td>1</td>\n",
       "      <td>1</td>\n",
       "      <td>PRINCIPAL</td>\n",
       "      <td>001PG1200255</td>\n",
       "      <td>1.118871e+09</td>\n",
       "      <td>LIZA LARA</td>\n",
       "      <td>31/10/2020 0:00</td>\n",
       "      <td>JHJ</td>\n",
       "      <td>1.266.688</td>\n",
       "      <td>1.266.688</td>\n",
       "      <td>12</td>\n",
       "      <td>58.802</td>\n",
       "      <td>37,08</td>\n",
       "      <td>PG12</td>\n",
       "      <td>NUEVO</td>\n",
       "      <td>07/12/2024</td>\n",
       "    </tr>\n",
       "  </tbody>\n",
       "</table>\n",
       "</div>"
      ],
      "text/plain": [
       "   zona  coficina   noficina       credito            id              nombre  \\\n",
       "0     1         1  PRINCIPAL  001MH0109358  1.343595e+07  ALDEMAR MENDEZ RIV   \n",
       "1     1         1  PRINCIPAL  001PG1200252  6.684842e+07  LUZ AMANDA DIAZ RI   \n",
       "2     1         1  PRINCIPAL  001PG1200253  1.010138e+09  Danna Catalina Ort   \n",
       "3     1         1  PRINCIPAL  001PG1200254  1.495966e+07  MIGUEL GERARDO ENR   \n",
       "4     1         1  PRINCIPAL  001PG1200255  1.118871e+09           LIZA LARA   \n",
       "\n",
       "           finicio analista        saldo        monto  plazo     vcuota  \\\n",
       "0  31/10/2020 0:00      DPC   1.181.630    1.181.630      10   147.304    \n",
       "1  31/10/2020 0:00      JHJ   1.166.688    1.166.688      12    57.766    \n",
       "2  31/10/2020 0:00      FUX   1.537.195    1.537.195      15    68.193    \n",
       "3  31/10/2020 0:00      GFD   1.877.610    1.877.610      15    87.164    \n",
       "4  31/10/2020 0:00      JHJ   1.266.688    1.266.688      12    58.802    \n",
       "\n",
       "    tasa producto   tipo   fproxpago  \n",
       "0  32,16     MH01  NUEVO  10/12/2024  \n",
       "1  37,08     PG12  NUEVO  10/12/2024  \n",
       "2  37,08     PG12  NUEVO  05/12/2024  \n",
       "3  37,08     PG12  NUEVO  07/12/2024  \n",
       "4  37,08     PG12  NUEVO  07/12/2024  "
      ]
     },
     "execution_count": 3,
     "metadata": {},
     "output_type": "execute_result"
    }
   ],
   "source": [
    "df_colocacion = pd.read_csv(\"Colocacion_creditos(DATOS BASE).csv\", sep=';')\n",
    "df_colocacion.head()"
   ]
  },
  {
   "cell_type": "code",
   "execution_count": null,
   "id": "e90ffb2d",
   "metadata": {},
   "outputs": [
    {
     "name": "stdout",
     "output_type": "stream",
     "text": [
      "<class 'pandas.core.frame.DataFrame'>\n",
      "RangeIndex: 3919 entries, 0 to 3918\n",
      "Data columns (total 28 columns):\n",
      " #   Column                   Non-Null Count  Dtype  \n",
      "---  ------                   --------------  -----  \n",
      " 0   Num                      3919 non-null   float64\n",
      " 1   ID_modif                 3919 non-null   object \n",
      " 2   Cliente                  3918 non-null   object \n",
      " 3   Analista                 3919 non-null   object \n",
      " 4   Nombre analista          3919 non-null   object \n",
      " 5   Tipo crédito             3717 non-null   object \n",
      " 6   Fecha desem              3916 non-null   object \n",
      " 7   Visita_analista_crédito  3119 non-null   object \n",
      " 8   Visita_auditor           3800 non-null   object \n",
      " 9   Actividad                3867 non-null   object \n",
      " 10  Monto                    3919 non-null   float64\n",
      " 11  Cuota                    3919 non-null   object \n",
      " 12  Plazo                    3919 non-null   int64  \n",
      " 13  Categoria                3919 non-null   object \n",
      " 14  Hallazgo                 3917 non-null   object \n",
      " 15  Tipo hallazgo            3918 non-null   object \n",
      " 16  Riesgo                   3915 non-null   object \n",
      " 17  Calificación cartera     3889 non-null   object \n",
      " 18  Relaciones Laborales     3423 non-null   object \n",
      " 19  Oficina                  3919 non-null   object \n",
      " 20  zona                     3919 non-null   int64  \n",
      " 21  Regional                 3919 non-null   int64  \n",
      " 22  Validación unico         247 non-null    object \n",
      " 23  Tipo analisis            2397 non-null   object \n",
      " 24  Clasificac analisis      2397 non-null   object \n",
      " 25  Estado                   2786 non-null   object \n",
      " 26  Año                      3919 non-null   int64  \n",
      " 27  Tipo                     2786 non-null   object \n",
      "dtypes: float64(2), int64(4), object(22)\n",
      "memory usage: 857.4+ KB\n",
      "Cliente                       1\n",
      "Tipo crédito                202\n",
      "Fecha desem                   3\n",
      "Visita_analista_crédito     800\n",
      "Visita_auditor              119\n",
      "Actividad                    52\n",
      "Hallazgo                      2\n",
      "Tipo hallazgo                 1\n",
      "Riesgo                        4\n",
      "Calificación cartera         30\n",
      "Relaciones Laborales        496\n",
      "Validación unico           3672\n",
      "Tipo analisis              1522\n",
      "Clasificac analisis        1522\n",
      "Estado                     1133\n",
      "Tipo                       1133\n",
      "dtype: int64\n"
     ]
    }
   ],
   "source": [
    "#Conteo de nulos\n",
    "df_historico.info()\n",
    "print(df_historico.isnull().sum()[df_historico.isnull().sum() > 0])"
   ]
  },
  {
   "cell_type": "markdown",
   "id": "5707dadb",
   "metadata": {},
   "source": [
    "Tenemos un dataset con varios datos faltantes\n",
    "- Tipo Crédito con mas de 200 valores nulos\n",
    "- Un cliente faltante\n",
    "- Dos creditos sin fecha de desmbolso\n",
    "- 800 creditos sin visita de analista\n",
    "- 119 creditos sin visita de auditor\n",
    "- 52 creditos no especifica actividad\n",
    "- 2 Creditos sin hallazgo\n",
    "- 1 credito sin tipo de hallazgo\n",
    "- 4 creditos sin riesgo\n",
    "- 30 creditos sin calficacion de cartera\n",
    "- Casi 500 creditos sin relacion laboral\n",
    "- Practicamente toda la columna Validacion unico esta sin valores\n",
    "- Tipo analisis tiene aproximadamente 1520 sin llenar\n",
    "- Clasificacion de analisis tambien tiene aproximadamente 1520 sin llenar\n",
    "- Hay mas de 1100 creditos sin estado\n",
    "- Hay mas de 1100 creditos sin tipo\n",
    "\n",
    "Tambien podemos observar:\n",
    "- cuota es de tipo object y deberia ser float\n",
    "- Riesgo podria ser numerica si solo dejamos el numero"
   ]
  },
  {
   "cell_type": "code",
   "execution_count": 7,
   "id": "b33bf15c",
   "metadata": {},
   "outputs": [
    {
     "name": "stdout",
     "output_type": "stream",
     "text": [
      "<class 'pandas.core.frame.DataFrame'>\n",
      "RangeIndex: 20188 entries, 0 to 20187\n",
      "Data columns (total 16 columns):\n",
      " #   Column     Non-Null Count  Dtype  \n",
      "---  ------     --------------  -----  \n",
      " 0   zona       20188 non-null  int64  \n",
      " 1   coficina   20188 non-null  int64  \n",
      " 2   noficina   20188 non-null  object \n",
      " 3   credito    20188 non-null  object \n",
      " 4   id         20179 non-null  float64\n",
      " 5   nombre     20188 non-null  object \n",
      " 6   finicio    20188 non-null  object \n",
      " 7   analista   20188 non-null  object \n",
      " 8   saldo      20188 non-null  object \n",
      " 9   monto      20188 non-null  object \n",
      " 10  plazo      20188 non-null  int64  \n",
      " 11  vcuota     20188 non-null  object \n",
      " 12  tasa       20188 non-null  object \n",
      " 13  producto   20188 non-null  object \n",
      " 14  tipo       20188 non-null  object \n",
      " 15  fproxpago  20188 non-null  object \n",
      "dtypes: float64(1), int64(3), object(12)\n",
      "memory usage: 2.5+ MB\n"
     ]
    }
   ],
   "source": [
    "df_colocacion.info()"
   ]
  },
  {
   "cell_type": "code",
   "execution_count": 12,
   "id": "9d5395f9",
   "metadata": {},
   "outputs": [
    {
     "data": {
      "application/vnd.microsoft.datawrangler.viewer.v0+json": {
       "columns": [
        {
         "name": "Categoria",
         "rawType": "object",
         "type": "string"
        },
        {
         "name": "count",
         "rawType": "int64",
         "type": "integer"
        }
       ],
       "ref": "238b9058-d57a-4ed2-be2c-f54aaac975d0",
       "rows": [
        [
         "Sin_Hallazgo",
         "1025"
        ],
        [
         "Otras_Políticas",
         "655"
        ],
        [
         "OTRAS_POLITICAS",
         "362"
        ],
        [
         "Limitación_en_el_Alcance",
         "234"
        ],
        [
         "LIMITACIÓN_EN_EL_ALCANCE",
         "196"
        ],
        [
         "Controles_Administrativos_de_Agencia",
         "173"
        ],
        [
         "Políticas_Críticas",
         "158"
        ],
        [
         "ESTABILIDAD",
         "154"
        ],
        [
         "Otros",
         "129"
        ],
        [
         "CALIDAD_DE_DATOS",
         "109"
        ],
        [
         "Reputación",
         "104"
        ],
        [
         "Existencia_y_Continuidad_del_Negocio",
         "96"
        ],
        [
         "FRAUDE_Y_PRÁCTICAS_INDEBIDAS",
         "87"
        ],
        [
         "Estabilidad",
         "82"
        ],
        [
         "Calidad_de_Datos",
         "72"
        ],
        [
         "FLUJO_DE_CAJA",
         "48"
        ],
        [
         "Flujo_de_Caja",
         "41"
        ],
        [
         "POLITICAS_CRITICAS",
         "38"
        ],
        [
         "Controles_Gestión_Comercial",
         "38"
        ],
        [
         "INCUMPLIMIENTO_AL_SAC",
         "36"
        ],
        [
         "EXISTENCIA_Y_CONTINUIDAD_DEL_NEGOCIO",
         "24"
        ],
        [
         "REPUTACIÓN",
         "15"
        ],
        [
         "Habilidad_Empresarial",
         "14"
        ],
        [
         "Incumplimiento_Al_SAC",
         "13"
        ],
        [
         "HABILIDAD_EMPRESARIAL",
         "8"
        ],
        [
         "CONTROLES_ADMINISTRATIVOS_DE_AGENCIA",
         "3"
        ],
        [
         "Seguridad_de_la_Información",
         "2"
        ],
        [
         "SIN_HALLAZGO",
         "1"
        ],
        [
         "Fraude_y_Prácticas_Indebidas",
         "1"
        ],
        [
         "otros",
         "1"
        ]
       ],
       "shape": {
        "columns": 1,
        "rows": 30
       }
      },
      "text/plain": [
       "Categoria\n",
       "Sin_Hallazgo                            1025\n",
       "Otras_Políticas                          655\n",
       "OTRAS_POLITICAS                          362\n",
       "Limitación_en_el_Alcance                 234\n",
       "LIMITACIÓN_EN_EL_ALCANCE                 196\n",
       "Controles_Administrativos_de_Agencia     173\n",
       "Políticas_Críticas                       158\n",
       "ESTABILIDAD                              154\n",
       "Otros                                    129\n",
       "CALIDAD_DE_DATOS                         109\n",
       "Reputación                               104\n",
       "Existencia_y_Continuidad_del_Negocio      96\n",
       "FRAUDE_Y_PRÁCTICAS_INDEBIDAS              87\n",
       "Estabilidad                               82\n",
       "Calidad_de_Datos                          72\n",
       "FLUJO_DE_CAJA                             48\n",
       "Flujo_de_Caja                             41\n",
       "POLITICAS_CRITICAS                        38\n",
       "Controles_Gestión_Comercial               38\n",
       "INCUMPLIMIENTO_AL_SAC                     36\n",
       "EXISTENCIA_Y_CONTINUIDAD_DEL_NEGOCIO      24\n",
       "REPUTACIÓN                                15\n",
       "Habilidad_Empresarial                     14\n",
       "Incumplimiento_Al_SAC                     13\n",
       "HABILIDAD_EMPRESARIAL                      8\n",
       "CONTROLES_ADMINISTRATIVOS_DE_AGENCIA       3\n",
       "Seguridad_de_la_Información                2\n",
       "SIN_HALLAZGO                               1\n",
       "Fraude_y_Prácticas_Indebidas               1\n",
       "otros                                      1\n",
       "Name: count, dtype: int64"
      ]
     },
     "execution_count": 12,
     "metadata": {},
     "output_type": "execute_result"
    }
   ],
   "source": [
    "df_historico['Categoria'].value_counts()"
   ]
  },
  {
   "cell_type": "markdown",
   "id": "ac724c4d",
   "metadata": {},
   "source": [
    "La categoria seria la variable objetivo, saber si es Fraude-y-Practicas-Indebidas, se ve que tiene muchos tipos de datos esta variables pero es porque tiene categorias en mayuscula y minuscula para referirse al mismo texto"
   ]
  },
  {
   "cell_type": "code",
   "execution_count": 6,
   "id": "28172511",
   "metadata": {},
   "outputs": [],
   "source": [
    "df_historico['Categoria'] = df_historico['Categoria'].str.upper()"
   ]
  },
  {
   "cell_type": "code",
   "execution_count": 7,
   "id": "f81e01e1",
   "metadata": {},
   "outputs": [
    {
     "data": {
      "application/vnd.microsoft.datawrangler.viewer.v0+json": {
       "columns": [
        {
         "name": "Categoria",
         "rawType": "object",
         "type": "string"
        },
        {
         "name": "count",
         "rawType": "int64",
         "type": "integer"
        }
       ],
       "ref": "b717ca27-bf0f-4970-b078-34ebea83e99b",
       "rows": [
        [
         "SIN_HALLAZGO",
         "1026"
        ],
        [
         "OTRAS_POLÍTICAS",
         "655"
        ],
        [
         "LIMITACIÓN_EN_EL_ALCANCE",
         "430"
        ],
        [
         "OTRAS_POLITICAS",
         "362"
        ],
        [
         "ESTABILIDAD",
         "236"
        ],
        [
         "CALIDAD_DE_DATOS",
         "181"
        ],
        [
         "CONTROLES_ADMINISTRATIVOS_DE_AGENCIA",
         "176"
        ],
        [
         "POLÍTICAS_CRÍTICAS",
         "158"
        ],
        [
         "OTROS",
         "130"
        ],
        [
         "EXISTENCIA_Y_CONTINUIDAD_DEL_NEGOCIO",
         "120"
        ],
        [
         "REPUTACIÓN",
         "119"
        ],
        [
         "FLUJO_DE_CAJA",
         "89"
        ],
        [
         "FRAUDE_Y_PRÁCTICAS_INDEBIDAS",
         "88"
        ],
        [
         "INCUMPLIMIENTO_AL_SAC",
         "49"
        ],
        [
         "POLITICAS_CRITICAS",
         "38"
        ],
        [
         "CONTROLES_GESTIÓN_COMERCIAL",
         "38"
        ],
        [
         "HABILIDAD_EMPRESARIAL",
         "22"
        ],
        [
         "SEGURIDAD_DE_LA_INFORMACIÓN",
         "2"
        ]
       ],
       "shape": {
        "columns": 1,
        "rows": 18
       }
      },
      "text/plain": [
       "Categoria\n",
       "SIN_HALLAZGO                            1026\n",
       "OTRAS_POLÍTICAS                          655\n",
       "LIMITACIÓN_EN_EL_ALCANCE                 430\n",
       "OTRAS_POLITICAS                          362\n",
       "ESTABILIDAD                              236\n",
       "CALIDAD_DE_DATOS                         181\n",
       "CONTROLES_ADMINISTRATIVOS_DE_AGENCIA     176\n",
       "POLÍTICAS_CRÍTICAS                       158\n",
       "OTROS                                    130\n",
       "EXISTENCIA_Y_CONTINUIDAD_DEL_NEGOCIO     120\n",
       "REPUTACIÓN                               119\n",
       "FLUJO_DE_CAJA                             89\n",
       "FRAUDE_Y_PRÁCTICAS_INDEBIDAS              88\n",
       "INCUMPLIMIENTO_AL_SAC                     49\n",
       "POLITICAS_CRITICAS                        38\n",
       "CONTROLES_GESTIÓN_COMERCIAL               38\n",
       "HABILIDAD_EMPRESARIAL                     22\n",
       "SEGURIDAD_DE_LA_INFORMACIÓN                2\n",
       "Name: count, dtype: int64"
      ]
     },
     "execution_count": 7,
     "metadata": {},
     "output_type": "execute_result"
    }
   ],
   "source": [
    "df_historico['Categoria'].value_counts()"
   ]
  },
  {
   "cell_type": "code",
   "execution_count": 14,
   "id": "26411051",
   "metadata": {},
   "outputs": [
    {
     "data": {
      "image/png": "[encoded data removed]",
      "text/plain": [
       "<Figure size 1000x600 with 1 Axes>"
      ]
     },
     "metadata": {},
     "output_type": "display_data"
    }
   ],
   "source": [
    "plt.figure(figsize=(10,6))\n",
    "sns.histplot(df_historico['Categoria'])\n",
    "plt.title(\"Histograma Categoria\")\n",
    "plt.xticks(rotation=90)\n",
    "plt.show()\n"
   ]
  },
  {
   "cell_type": "code",
   "execution_count": null,
   "id": "ca63c9ab",
   "metadata": {},
   "outputs": [],
   "source": [
    "plt.figure(figsize=(10,6))\n",
    "sns.boxplot()"
   ]
  },
  {
   "cell_type": "markdown",
   "id": "64b14987",
   "metadata": {},
   "source": [
    "Podemos borrar columnas categoricas unicas, como por ejemplo Num, ID_modif, Cliente, Nombre Analista, Validacion unico, Borramos nombre de analista porque tenemos la columna Analista"
   ]
  },
  {
   "cell_type": "code",
   "execution_count": 19,
   "id": "07971580",
   "metadata": {},
   "outputs": [
    {
     "name": "stdout",
     "output_type": "stream",
     "text": [
      "<class 'pandas.core.frame.DataFrame'>\n",
      "RangeIndex: 3919 entries, 0 to 3918\n",
      "Data columns (total 25 columns):\n",
      " #   Column                   Non-Null Count  Dtype  \n",
      "---  ------                   --------------  -----  \n",
      " 0   ID_modif                 3919 non-null   object \n",
      " 1   Cliente                  3918 non-null   object \n",
      " 2   Analista                 3919 non-null   object \n",
      " 3   Tipo crédito             3717 non-null   object \n",
      " 4   Fecha desem              3916 non-null   object \n",
      " 5   Visita_analista_crédito  3119 non-null   object \n",
      " 6   Visita_auditor           3800 non-null   object \n",
      " 7   Actividad                3867 non-null   object \n",
      " 8   Monto                    3919 non-null   float64\n",
      " 9   Cuota                    3917 non-null   object \n",
      " 10  Plazo                    3919 non-null   int64  \n",
      " 11  Categoria                3919 non-null   object \n",
      " 12  Hallazgo                 3917 non-null   object \n",
      " 13  Tipo hallazgo            3918 non-null   object \n",
      " 14  Riesgo                   3915 non-null   object \n",
      " 15  Calificación cartera     3889 non-null   object \n",
      " 16  Relaciones Laborales     3423 non-null   object \n",
      " 17  Oficina                  3919 non-null   object \n",
      " 18  zona                     3919 non-null   int64  \n",
      " 19  Regional                 3919 non-null   int64  \n",
      " 20  Tipo analisis            2397 non-null   object \n",
      " 21  Clasificac analisis      2397 non-null   object \n",
      " 22  Estado                   2786 non-null   object \n",
      " 23  Año                      3919 non-null   int64  \n",
      " 24  Tipo                     2786 non-null   object \n",
      "dtypes: float64(1), int64(4), object(20)\n",
      "memory usage: 765.6+ KB\n"
     ]
    }
   ],
   "source": [
    "df_clean = df_historico.drop(['Num', 'Nombre analista', 'Validación unico'], axis=1)\n",
    "df_clean['Cuota'] = df_clean[['Cuota']].replace(' $ -   ', np.nan)\n",
    "df_clean['Cuota'].astype('float')\n",
    "df_clean.info()"
   ]
  },
  {
   "cell_type": "code",
   "execution_count": 20,
   "id": "162c4aec",
   "metadata": {},
   "outputs": [
    {
     "data": {
      "application/vnd.microsoft.datawrangler.viewer.v0+json": {
       "columns": [
        {
         "name": "('ID_modif', 'Cliente')",
         "rawType": "object",
         "type": "unknown"
        },
        {
         "name": "count",
         "rawType": "int64",
         "type": "integer"
        }
       ],
       "ref": "166c7b2d-ea36-43d0-9854-690a2976ce7e",
       "rows": [
        [
         "('1.018.422.528', 'Jose Manuel Arroyo Benavides')",
         "7"
        ],
        [
         "('1.124.015.377', 'Endri Jesus Estrada Polanco')",
         "6"
        ],
        [
         "('1.111.479.682', 'Bairon Alejandro Toro Osuna')",
         "6"
        ],
        [
         "('19.596.173', 'Fidel Antonio Carranza Garcia')",
         "6"
        ],
        [
         "('40.773.725', 'Enith  Garcia Vanegas')",
         "6"
        ],
        [
         "('48.575.138', 'Maria Eugenia Velasco Causaya')",
         "6"
        ],
        [
         "('1.020.769.542', 'Andres Yesid Oviedo Vega')",
         "5"
        ],
        [
         "('123', 'Yasmin  Palma Moreno')",
         "5"
        ],
        [
         "('123', 'Aracely   Puentes  Garcia ')",
         "5"
        ],
        [
         "('123', 'Olga   Agudelo  Henao ')",
         "5"
        ],
        [
         "('123', 'Pedro Pablo Acosta Perez')",
         "5"
        ],
        [
         "('83.241.380', 'Diomedes  Zuniga Gonzalez')",
         "5"
        ],
        [
         "('1.192.893.013', 'Rosalinda  Florez Rangel')",
         "5"
        ],
        [
         "('123', 'Marisela  Hernandez  Rojas ')",
         "5"
        ],
        [
         "('12.207.774', 'Hector Angel Ochoa Caballero')",
         "5"
        ],
        [
         "('1.080.260.279', 'Anderson  Santana Gomez')",
         "5"
        ],
        [
         "('1.081.405.069', 'Nolver  Volveras Cuetocue')",
         "5"
        ],
        [
         "('24.619.854', 'Rosalba  Arias Gallego')",
         "5"
        ],
        [
         "('29.178.562', 'Francy Lorena Guetio Pisacue')",
         "5"
        ],
        [
         "('56.090.244', 'Carmelina  Fernandez Gonzalez')",
         "5"
        ],
        [
         "('66.853.788', 'Andrea Elizabeth Cardenas Cortes')",
         "5"
        ],
        [
         "('76.007.978', 'Nelson Fredi Cuetocue Pistala')",
         "5"
        ],
        [
         "('79.568.185', 'Frank Alexander Rodriguez Melo')",
         "5"
        ],
        [
         "('1.113.638.224', 'Ana Maria Gualguan Guerrero')",
         "4"
        ],
        [
         "('1.000.352.532', 'Ginna Paola Acosta Cortes')",
         "4"
        ],
        [
         "('123', 'Laura Daniela Buitrago Bocanegra')",
         "4"
        ],
        [
         "('123', 'Carlos Stiven Valencia Hernandez')",
         "4"
        ],
        [
         "('1.109.491.189', 'Juan David  Yara  Guzman ')",
         "4"
        ],
        [
         "('1.111.759.192', 'Leidi Yoana Riascos Riascos')",
         "4"
        ],
        [
         "('19.587.100', 'Luis Alfredo Andrade Diaz')",
         "4"
        ],
        [
         "('123', 'Edi Santiago Rodriguez Zapata')",
         "4"
        ],
        [
         "('1.079.914.033', 'Yilmer Enrique Caballero De La Hoz')",
         "4"
        ],
        [
         "('1.062.088.508', 'Naryiby  Cruz  Fernandez')",
         "4"
        ],
        [
         "('19.603.768', 'Waldis Antonio Cantillo De La Hoz')",
         "4"
        ],
        [
         "('1.115.452.745', 'Marcela Alexandra Torres Montano')",
         "4"
        ],
        [
         "('1.124.363.378', 'Juan Miguel Epieyu Pushaina')",
         "4"
        ],
        [
         "('1.081.790.938', 'Harold Enrique Julio Ramos')",
         "4"
        ],
        [
         "('1.081.820.096', 'Jorge Eliecer Lindarte Serrano')",
         "4"
        ],
        [
         "('1.065.610.352', 'Luis Alberto Medina Moscote')",
         "4"
        ],
        [
         "('1.018.404.714', 'Danny Alberto Correal Ochoa')",
         "4"
        ],
        [
         "('25.562.586', 'Stella   Pardo  Collo')",
         "4"
        ],
        [
         "('20.678.238', 'Gilma Isabel Avellaneda Ayala')",
         "4"
        ],
        [
         "('33.310.284', 'Yanerlis Esther Castillo  Puello')",
         "4"
        ],
        [
         "('57.450.943', 'Soraida  Vanegas Blanco')",
         "4"
        ],
        [
         "('39.321.978', 'Johana  Patricia  Pacheco Casta?Eda ')",
         "4"
        ],
        [
         "('1.130.604.844', 'Alba Nelly Rivera Cordoba')",
         "4"
        ],
        [
         "('41.571.216', 'Rosalba  Hormaza Mendivelso')",
         "4"
        ],
        [
         "('123', 'Sharon Tatiana Cespedes Torres')",
         "4"
        ],
        [
         "('51.800.447', 'Edna Ruth Gomez Sanchez')",
         "4"
        ],
        [
         "('52.254.307', 'Luz Neyda Corredor Pineda')",
         "4"
        ]
       ],
       "shape": {
        "columns": 1,
        "rows": 3460
       }
      },
      "text/plain": [
       "ID_modif       Cliente                        \n",
       "1.018.422.528  Jose Manuel Arroyo Benavides       7\n",
       "1.124.015.377  Endri Jesus Estrada Polanco        6\n",
       "1.111.479.682  Bairon Alejandro Toro Osuna        6\n",
       "19.596.173     Fidel Antonio Carranza Garcia      6\n",
       "40.773.725     Enith  Garcia Vanegas              6\n",
       "                                                 ..\n",
       "1.001.669.265  Maria Angelica Albornoz Blandon    1\n",
       "1.001.723.823  Edwin Camilo Florez Agudelo        1\n",
       "1.001.749.142  Evelin Manuela Alvarez Rios        1\n",
       "1.001.749.463  Santiago  Cardona Florez           1\n",
       "98.363.917     Einar Manolo Gahon Chamorro        1\n",
       "Name: count, Length: 3460, dtype: int64"
      ]
     },
     "execution_count": 20,
     "metadata": {},
     "output_type": "execute_result"
    }
   ],
   "source": [
    "df_clean_1 = df_clean.drop_duplicates()\n",
    "df_clean_1[['ID_modif', 'Cliente']].value_counts()"
   ]
  },
  {
   "cell_type": "markdown",
   "id": "c7a7d2ac",
   "metadata": {},
   "source": [
    "Una vez tenemos las variables describiremos los datos para poder realizar una posible imputacion de datos"
   ]
  },
  {
   "cell_type": "code",
   "execution_count": 39,
   "id": "0ad38c12",
   "metadata": {},
   "outputs": [
    {
     "data": {
      "application/vnd.microsoft.datawrangler.viewer.v0+json": {
       "columns": [
        {
         "name": "index",
         "rawType": "object",
         "type": "string"
        },
        {
         "name": "Analista",
         "rawType": "object",
         "type": "unknown"
        },
        {
         "name": "Tipo crédito",
         "rawType": "object",
         "type": "unknown"
        },
        {
         "name": "Fecha desem",
         "rawType": "object",
         "type": "unknown"
        },
        {
         "name": "Visita_analista_crédito",
         "rawType": "object",
         "type": "unknown"
        },
        {
         "name": "Visita_auditor",
         "rawType": "object",
         "type": "unknown"
        },
        {
         "name": "Actividad",
         "rawType": "object",
         "type": "unknown"
        },
        {
         "name": "Monto",
         "rawType": "float64",
         "type": "float"
        },
        {
         "name": "Cuota",
         "rawType": "object",
         "type": "unknown"
        },
        {
         "name": "Plazo",
         "rawType": "float64",
         "type": "float"
        },
        {
         "name": "Categoria",
         "rawType": "object",
         "type": "unknown"
        },
        {
         "name": "Hallazgo",
         "rawType": "object",
         "type": "unknown"
        },
        {
         "name": "Tipo hallazgo",
         "rawType": "object",
         "type": "unknown"
        },
        {
         "name": "Riesgo",
         "rawType": "object",
         "type": "unknown"
        },
        {
         "name": "Calificación cartera",
         "rawType": "object",
         "type": "unknown"
        },
        {
         "name": "Relaciones Laborales",
         "rawType": "object",
         "type": "unknown"
        },
        {
         "name": "Oficina ",
         "rawType": "object",
         "type": "unknown"
        },
        {
         "name": "zona ",
         "rawType": "float64",
         "type": "float"
        },
        {
         "name": "Regional",
         "rawType": "float64",
         "type": "float"
        },
        {
         "name": "Tipo analisis ",
         "rawType": "object",
         "type": "unknown"
        },
        {
         "name": "Clasificac analisis",
         "rawType": "object",
         "type": "unknown"
        },
        {
         "name": "Estado",
         "rawType": "object",
         "type": "unknown"
        },
        {
         "name": "Año",
         "rawType": "float64",
         "type": "float"
        },
        {
         "name": "Tipo",
         "rawType": "object",
         "type": "unknown"
        }
       ],
       "ref": "fc2fde48-6a41-41a0-abcf-2b7737bae3f1",
       "rows": [
        [
         "count",
         "3919",
         "3717",
         "3916",
         "3119",
         "3800",
         "3867",
         "3919.0",
         "3917",
         "3919.0",
         "3919",
         "3917",
         "3918",
         "3915",
         "3889",
         "3423",
         "3919",
         "3919.0",
         "3919.0",
         "2397",
         "2397",
         "2786",
         "3919.0",
         "2786"
        ],
        [
         "unique",
         "406",
         "5",
         "804",
         "690",
         "334",
         "2364",
         null,
         "1069",
         null,
         "16",
         "90",
         "10",
         "5",
         "3",
         "2",
         "63",
         null,
         null,
         "5",
         "13",
         "6",
         null,
         "4"
        ],
        [
         "top",
         "GEE",
         "Nuevo",
         "31-ago-22",
         "N/D",
         "00-ene-00",
         "venta de mercancia",
         null,
         "84",
         null,
         "SIN_HALLAZGO",
         "Sin hallazgo",
         "Sin Hallazgo",
         "2 - Medio",
         "No",
         "No",
         "Ibague",
         null,
         null,
         "Análisis de carácter",
         "Políticas",
         "Normal                        ",
         null,
         "Otros Hallazgos"
        ],
        [
         "freq",
         "44",
         "1595",
         "46",
         "142",
         "134",
         "74",
         null,
         "74",
         null,
         "1026",
         "1025",
         "1021",
         "1488",
         "3642",
         "3005",
         "227",
         null,
         null,
         "1410",
         "800",
         "1281",
         null,
         "1514"
        ],
        [
         "mean",
         null,
         null,
         null,
         null,
         null,
         null,
         "48.84530339372289",
         null,
         "24.17887216126563",
         null,
         null,
         null,
         null,
         null,
         null,
         null,
         "8.884154120949221",
         "3.0051033426894618",
         null,
         null,
         null,
         "2022.90073998469",
         null
        ],
        [
         "std",
         null,
         null,
         null,
         null,
         null,
         null,
         "138.0843399133472",
         null,
         "22.62986238176899",
         null,
         null,
         null,
         null,
         null,
         null,
         null,
         "4.540201178462968",
         "1.3270555951485843",
         null,
         null,
         null,
         "0.8171821024575407",
         null
        ],
        [
         "min",
         null,
         null,
         null,
         null,
         null,
         null,
         "0.0",
         null,
         "0.0",
         null,
         null,
         null,
         null,
         null,
         null,
         null,
         "1.0",
         "1.0",
         null,
         null,
         null,
         "2022.0",
         null
        ],
        [
         "25%",
         null,
         null,
         null,
         null,
         null,
         null,
         "2.374",
         null,
         "12.0",
         null,
         null,
         null,
         null,
         null,
         null,
         null,
         "5.0",
         "2.0",
         null,
         null,
         null,
         "2022.0",
         null
        ],
        [
         "50%",
         null,
         null,
         null,
         null,
         null,
         null,
         "4.857",
         null,
         "24.0",
         null,
         null,
         null,
         null,
         null,
         null,
         null,
         "10.0",
         "3.0",
         null,
         null,
         null,
         "2023.0",
         null
        ],
        [
         "75%",
         null,
         null,
         null,
         null,
         null,
         null,
         "11.0",
         null,
         "36.0",
         null,
         null,
         null,
         null,
         null,
         null,
         null,
         "12.0",
         "4.0",
         null,
         null,
         null,
         "2024.0",
         null
        ],
        [
         "max",
         null,
         null,
         null,
         null,
         null,
         null,
         "900.0",
         null,
         "913.0",
         null,
         null,
         null,
         null,
         null,
         null,
         null,
         "17.0",
         "5.0",
         null,
         null,
         null,
         "2024.0",
         null
        ]
       ],
       "shape": {
        "columns": 23,
        "rows": 11
       }
      },
      "text/html": [
       "<div>\n",
       "<style scoped>\n",
       "    .dataframe tbody tr th:only-of-type {\n",
       "        vertical-align: middle;\n",
       "    }\n",
       "\n",
       "    .dataframe tbody tr th {\n",
       "        vertical-align: top;\n",
       "    }\n",
       "\n",
       "    .dataframe thead th {\n",
       "        text-align: right;\n",
       "    }\n",
       "</style>\n",
       "<table border=\"1\" class=\"dataframe\">\n",
       "  <thead>\n",
       "    <tr style=\"text-align: right;\">\n",
       "      <th></th>\n",
       "      <th>Analista</th>\n",
       "      <th>Tipo crédito</th>\n",
       "      <th>Fecha desem</th>\n",
       "      <th>Visita_analista_crédito</th>\n",
       "      <th>Visita_auditor</th>\n",
       "      <th>Actividad</th>\n",
       "      <th>Monto</th>\n",
       "      <th>Cuota</th>\n",
       "      <th>Plazo</th>\n",
       "      <th>Categoria</th>\n",
       "      <th>...</th>\n",
       "      <th>Calificación cartera</th>\n",
       "      <th>Relaciones Laborales</th>\n",
       "      <th>Oficina</th>\n",
       "      <th>zona</th>\n",
       "      <th>Regional</th>\n",
       "      <th>Tipo analisis</th>\n",
       "      <th>Clasificac analisis</th>\n",
       "      <th>Estado</th>\n",
       "      <th>Año</th>\n",
       "      <th>Tipo</th>\n",
       "    </tr>\n",
       "  </thead>\n",
       "  <tbody>\n",
       "    <tr>\n",
       "      <th>count</th>\n",
       "      <td>3919</td>\n",
       "      <td>3717</td>\n",
       "      <td>3916</td>\n",
       "      <td>3119</td>\n",
       "      <td>3800</td>\n",
       "      <td>3867</td>\n",
       "      <td>3919.000000</td>\n",
       "      <td>3917</td>\n",
       "      <td>3919.000000</td>\n",
       "      <td>3919</td>\n",
       "      <td>...</td>\n",
       "      <td>3889</td>\n",
       "      <td>3423</td>\n",
       "      <td>3919</td>\n",
       "      <td>3919.000000</td>\n",
       "      <td>3919.000000</td>\n",
       "      <td>2397</td>\n",
       "      <td>2397</td>\n",
       "      <td>2786</td>\n",
       "      <td>3919.000000</td>\n",
       "      <td>2786</td>\n",
       "    </tr>\n",
       "    <tr>\n",
       "      <th>unique</th>\n",
       "      <td>406</td>\n",
       "      <td>5</td>\n",
       "      <td>804</td>\n",
       "      <td>690</td>\n",
       "      <td>334</td>\n",
       "      <td>2364</td>\n",
       "      <td>NaN</td>\n",
       "      <td>1069</td>\n",
       "      <td>NaN</td>\n",
       "      <td>16</td>\n",
       "      <td>...</td>\n",
       "      <td>3</td>\n",
       "      <td>2</td>\n",
       "      <td>63</td>\n",
       "      <td>NaN</td>\n",
       "      <td>NaN</td>\n",
       "      <td>5</td>\n",
       "      <td>13</td>\n",
       "      <td>6</td>\n",
       "      <td>NaN</td>\n",
       "      <td>4</td>\n",
       "    </tr>\n",
       "    <tr>\n",
       "      <th>top</th>\n",
       "      <td>GEE</td>\n",
       "      <td>Nuevo</td>\n",
       "      <td>31-ago-22</td>\n",
       "      <td>N/D</td>\n",
       "      <td>00-ene-00</td>\n",
       "      <td>venta de mercancia</td>\n",
       "      <td>NaN</td>\n",
       "      <td>84</td>\n",
       "      <td>NaN</td>\n",
       "      <td>SIN_HALLAZGO</td>\n",
       "      <td>...</td>\n",
       "      <td>No</td>\n",
       "      <td>No</td>\n",
       "      <td>Ibague</td>\n",
       "      <td>NaN</td>\n",
       "      <td>NaN</td>\n",
       "      <td>Análisis de carácter</td>\n",
       "      <td>Políticas</td>\n",
       "      <td>Normal</td>\n",
       "      <td>NaN</td>\n",
       "      <td>Otros Hallazgos</td>\n",
       "    </tr>\n",
       "    <tr>\n",
       "      <th>freq</th>\n",
       "      <td>44</td>\n",
       "      <td>1595</td>\n",
       "      <td>46</td>\n",
       "      <td>142</td>\n",
       "      <td>134</td>\n",
       "      <td>74</td>\n",
       "      <td>NaN</td>\n",
       "      <td>74</td>\n",
       "      <td>NaN</td>\n",
       "      <td>1026</td>\n",
       "      <td>...</td>\n",
       "      <td>3642</td>\n",
       "      <td>3005</td>\n",
       "      <td>227</td>\n",
       "      <td>NaN</td>\n",
       "      <td>NaN</td>\n",
       "      <td>1410</td>\n",
       "      <td>800</td>\n",
       "      <td>1281</td>\n",
       "      <td>NaN</td>\n",
       "      <td>1514</td>\n",
       "    </tr>\n",
       "    <tr>\n",
       "      <th>mean</th>\n",
       "      <td>NaN</td>\n",
       "      <td>NaN</td>\n",
       "      <td>NaN</td>\n",
       "      <td>NaN</td>\n",
       "      <td>NaN</td>\n",
       "      <td>NaN</td>\n",
       "      <td>48.845303</td>\n",
       "      <td>NaN</td>\n",
       "      <td>24.178872</td>\n",
       "      <td>NaN</td>\n",
       "      <td>...</td>\n",
       "      <td>NaN</td>\n",
       "      <td>NaN</td>\n",
       "      <td>NaN</td>\n",
       "      <td>8.884154</td>\n",
       "      <td>3.005103</td>\n",
       "      <td>NaN</td>\n",
       "      <td>NaN</td>\n",
       "      <td>NaN</td>\n",
       "      <td>2022.900740</td>\n",
       "      <td>NaN</td>\n",
       "    </tr>\n",
       "    <tr>\n",
       "      <th>std</th>\n",
       "      <td>NaN</td>\n",
       "      <td>NaN</td>\n",
       "      <td>NaN</td>\n",
       "      <td>NaN</td>\n",
       "      <td>NaN</td>\n",
       "      <td>NaN</td>\n",
       "      <td>138.084340</td>\n",
       "      <td>NaN</td>\n",
       "      <td>22.629862</td>\n",
       "      <td>NaN</td>\n",
       "      <td>...</td>\n",
       "      <td>NaN</td>\n",
       "      <td>NaN</td>\n",
       "      <td>NaN</td>\n",
       "      <td>4.540201</td>\n",
       "      <td>1.327056</td>\n",
       "      <td>NaN</td>\n",
       "      <td>NaN</td>\n",
       "      <td>NaN</td>\n",
       "      <td>0.817182</td>\n",
       "      <td>NaN</td>\n",
       "    </tr>\n",
       "    <tr>\n",
       "      <th>min</th>\n",
       "      <td>NaN</td>\n",
       "      <td>NaN</td>\n",
       "      <td>NaN</td>\n",
       "      <td>NaN</td>\n",
       "      <td>NaN</td>\n",
       "      <td>NaN</td>\n",
       "      <td>0.000000</td>\n",
       "      <td>NaN</td>\n",
       "      <td>0.000000</td>\n",
       "      <td>NaN</td>\n",
       "      <td>...</td>\n",
       "      <td>NaN</td>\n",
       "      <td>NaN</td>\n",
       "      <td>NaN</td>\n",
       "      <td>1.000000</td>\n",
       "      <td>1.000000</td>\n",
       "      <td>NaN</td>\n",
       "      <td>NaN</td>\n",
       "      <td>NaN</td>\n",
       "      <td>2022.000000</td>\n",
       "      <td>NaN</td>\n",
       "    </tr>\n",
       "    <tr>\n",
       "      <th>25%</th>\n",
       "      <td>NaN</td>\n",
       "      <td>NaN</td>\n",
       "      <td>NaN</td>\n",
       "      <td>NaN</td>\n",
       "      <td>NaN</td>\n",
       "      <td>NaN</td>\n",
       "      <td>2.374000</td>\n",
       "      <td>NaN</td>\n",
       "      <td>12.000000</td>\n",
       "      <td>NaN</td>\n",
       "      <td>...</td>\n",
       "      <td>NaN</td>\n",
       "      <td>NaN</td>\n",
       "      <td>NaN</td>\n",
       "      <td>5.000000</td>\n",
       "      <td>2.000000</td>\n",
       "      <td>NaN</td>\n",
       "      <td>NaN</td>\n",
       "      <td>NaN</td>\n",
       "      <td>2022.000000</td>\n",
       "      <td>NaN</td>\n",
       "    </tr>\n",
       "    <tr>\n",
       "      <th>50%</th>\n",
       "      <td>NaN</td>\n",
       "      <td>NaN</td>\n",
       "      <td>NaN</td>\n",
       "      <td>NaN</td>\n",
       "      <td>NaN</td>\n",
       "      <td>NaN</td>\n",
       "      <td>4.857000</td>\n",
       "      <td>NaN</td>\n",
       "      <td>24.000000</td>\n",
       "      <td>NaN</td>\n",
       "      <td>...</td>\n",
       "      <td>NaN</td>\n",
       "      <td>NaN</td>\n",
       "      <td>NaN</td>\n",
       "      <td>10.000000</td>\n",
       "      <td>3.000000</td>\n",
       "      <td>NaN</td>\n",
       "      <td>NaN</td>\n",
       "      <td>NaN</td>\n",
       "      <td>2023.000000</td>\n",
       "      <td>NaN</td>\n",
       "    </tr>\n",
       "    <tr>\n",
       "      <th>75%</th>\n",
       "      <td>NaN</td>\n",
       "      <td>NaN</td>\n",
       "      <td>NaN</td>\n",
       "      <td>NaN</td>\n",
       "      <td>NaN</td>\n",
       "      <td>NaN</td>\n",
       "      <td>11.000000</td>\n",
       "      <td>NaN</td>\n",
       "      <td>36.000000</td>\n",
       "      <td>NaN</td>\n",
       "      <td>...</td>\n",
       "      <td>NaN</td>\n",
       "      <td>NaN</td>\n",
       "      <td>NaN</td>\n",
       "      <td>12.000000</td>\n",
       "      <td>4.000000</td>\n",
       "      <td>NaN</td>\n",
       "      <td>NaN</td>\n",
       "      <td>NaN</td>\n",
       "      <td>2024.000000</td>\n",
       "      <td>NaN</td>\n",
       "    </tr>\n",
       "    <tr>\n",
       "      <th>max</th>\n",
       "      <td>NaN</td>\n",
       "      <td>NaN</td>\n",
       "      <td>NaN</td>\n",
       "      <td>NaN</td>\n",
       "      <td>NaN</td>\n",
       "      <td>NaN</td>\n",
       "      <td>900.000000</td>\n",
       "      <td>NaN</td>\n",
       "      <td>913.000000</td>\n",
       "      <td>NaN</td>\n",
       "      <td>...</td>\n",
       "      <td>NaN</td>\n",
       "      <td>NaN</td>\n",
       "      <td>NaN</td>\n",
       "      <td>17.000000</td>\n",
       "      <td>5.000000</td>\n",
       "      <td>NaN</td>\n",
       "      <td>NaN</td>\n",
       "      <td>NaN</td>\n",
       "      <td>2024.000000</td>\n",
       "      <td>NaN</td>\n",
       "    </tr>\n",
       "  </tbody>\n",
       "</table>\n",
       "<p>11 rows × 23 columns</p>\n",
       "</div>"
      ],
      "text/plain": [
       "       Analista Tipo crédito Fecha desem Visita_analista_crédito  \\\n",
       "count      3919         3717        3916                    3119   \n",
       "unique      406            5         804                     690   \n",
       "top         GEE        Nuevo   31-ago-22                     N/D   \n",
       "freq         44         1595          46                     142   \n",
       "mean        NaN          NaN         NaN                     NaN   \n",
       "std         NaN          NaN         NaN                     NaN   \n",
       "min         NaN          NaN         NaN                     NaN   \n",
       "25%         NaN          NaN         NaN                     NaN   \n",
       "50%         NaN          NaN         NaN                     NaN   \n",
       "75%         NaN          NaN         NaN                     NaN   \n",
       "max         NaN          NaN         NaN                     NaN   \n",
       "\n",
       "       Visita_auditor           Actividad        Monto Cuota        Plazo  \\\n",
       "count            3800                3867  3919.000000  3917  3919.000000   \n",
       "unique            334                2364          NaN  1069          NaN   \n",
       "top         00-ene-00  venta de mercancia          NaN    84          NaN   \n",
       "freq              134                  74          NaN    74          NaN   \n",
       "mean              NaN                 NaN    48.845303   NaN    24.178872   \n",
       "std               NaN                 NaN   138.084340   NaN    22.629862   \n",
       "min               NaN                 NaN     0.000000   NaN     0.000000   \n",
       "25%               NaN                 NaN     2.374000   NaN    12.000000   \n",
       "50%               NaN                 NaN     4.857000   NaN    24.000000   \n",
       "75%               NaN                 NaN    11.000000   NaN    36.000000   \n",
       "max               NaN                 NaN   900.000000   NaN   913.000000   \n",
       "\n",
       "           Categoria  ... Calificación cartera Relaciones Laborales Oficina   \\\n",
       "count           3919  ...                 3889                 3423     3919   \n",
       "unique            16  ...                    3                    2       63   \n",
       "top     SIN_HALLAZGO  ...                   No                   No   Ibague   \n",
       "freq            1026  ...                 3642                 3005      227   \n",
       "mean             NaN  ...                  NaN                  NaN      NaN   \n",
       "std              NaN  ...                  NaN                  NaN      NaN   \n",
       "min              NaN  ...                  NaN                  NaN      NaN   \n",
       "25%              NaN  ...                  NaN                  NaN      NaN   \n",
       "50%              NaN  ...                  NaN                  NaN      NaN   \n",
       "75%              NaN  ...                  NaN                  NaN      NaN   \n",
       "max              NaN  ...                  NaN                  NaN      NaN   \n",
       "\n",
       "              zona      Regional        Tipo analisis   Clasificac analisis  \\\n",
       "count   3919.000000  3919.000000                  2397                 2397   \n",
       "unique          NaN          NaN                     5                   13   \n",
       "top             NaN          NaN  Análisis de carácter            Políticas   \n",
       "freq            NaN          NaN                  1410                  800   \n",
       "mean       8.884154     3.005103                   NaN                  NaN   \n",
       "std        4.540201     1.327056                   NaN                  NaN   \n",
       "min        1.000000     1.000000                   NaN                  NaN   \n",
       "25%        5.000000     2.000000                   NaN                  NaN   \n",
       "50%       10.000000     3.000000                   NaN                  NaN   \n",
       "75%       12.000000     4.000000                   NaN                  NaN   \n",
       "max       17.000000     5.000000                   NaN                  NaN   \n",
       "\n",
       "                                Estado          Año             Tipo  \n",
       "count                             2786  3919.000000             2786  \n",
       "unique                               6          NaN                4  \n",
       "top     Normal                                  NaN  Otros Hallazgos  \n",
       "freq                              1281          NaN             1514  \n",
       "mean                               NaN  2022.900740              NaN  \n",
       "std                                NaN     0.817182              NaN  \n",
       "min                                NaN  2022.000000              NaN  \n",
       "25%                                NaN  2022.000000              NaN  \n",
       "50%                                NaN  2023.000000              NaN  \n",
       "75%                                NaN  2024.000000              NaN  \n",
       "max                                NaN  2024.000000              NaN  \n",
       "\n",
       "[11 rows x 23 columns]"
      ]
     },
     "execution_count": 39,
     "metadata": {},
     "output_type": "execute_result"
    }
   ],
   "source": [
    "df_clean.describe(include='all')"
   ]
  },
  {
   "cell_type": "markdown",
   "id": "52a92069",
   "metadata": {},
   "source": [
    "Para la imputacion:\n",
    "- Podemos colocar en los valores faltantes de Tipo crédito el valor mas frecuente que es Nuevo\n",
    "- Visita analista y visita auditor tiene sentido que tenga valores nulos porque se pueden otorgar creditos sin la visita de un analista o de un auditor\n",
    "- Para los dos valores faltantes de la cuota podemos usar la media o la cuota de creditos desembolsados con el mismo valor\n"
   ]
  },
  {
   "cell_type": "code",
   "execution_count": 23,
   "id": "3e0880cb",
   "metadata": {},
   "outputs": [
    {
     "data": {
      "text/plain": [
       "<seaborn.axisgrid.PairGrid at 0x240a925bed0>"
      ]
     },
     "execution_count": 23,
     "metadata": {},
     "output_type": "execute_result"
    },
    {
     "data": {
      "image/png": "[encoded data removed]",
      "text/plain": [
       "<Figure size 1614.88x1250 with 30 Axes>"
      ]
     },
     "metadata": {},
     "output_type": "display_data"
    }
   ],
   "source": [
    "sns.pairplot(data=df_clean, hue='Categoria')"
   ]
  },
  {
   "cell_type": "code",
   "execution_count": 11,
   "id": "301c4be8",
   "metadata": {},
   "outputs": [
    {
     "data": {
      "text/plain": [
       "<Axes: >"
      ]
     },
     "execution_count": 11,
     "metadata": {},
     "output_type": "execute_result"
    },
    {
     "data": {
      "image/png": "[encoded data removed]",
      "text/plain": [
       "<Figure size 640x480 with 1 Axes>"
      ]
     },
     "metadata": {},
     "output_type": "display_data"
    }
   ],
   "source": [
    "sns.boxplot(data=df_clean)"
   ]
  }
 ],
 "metadata": {
  "kernelspec": {
   "display_name": "proyecto-ad1",
   "language": "python",
   "name": "python3"
  },
  "language_info": {
   "codemirror_mode": {
    "name": "ipython",
    "version": 3
   },
   "file_extension": ".py",
   "mimetype": "text/x-python",
   "name": "python",
   "nbconvert_exporter": "python",
   "pygments_lexer": "ipython3",
   "version": "3.13.3"
  }
 },
 "nbformat": 4,
 "nbformat_minor": 5
}
